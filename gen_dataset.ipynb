{
 "cells": [
  {
   "cell_type": "code",
   "execution_count": 1,
   "metadata": {},
   "outputs": [
    {
     "name": "stdout",
     "output_type": "stream",
     "text": [
      "Requirement already satisfied: pip in /Users/darkknight/opt/anaconda3/lib/python3.9/site-packages (23.1.2)\n",
      "Requirement already satisfied: pillow in /Users/darkknight/opt/anaconda3/lib/python3.9/site-packages (9.2.0)\n"
     ]
    }
   ],
   "source": [
    "# install if necessary\n",
    "!pip install --upgrade pip\n",
    "!pip install pillow"
   ]
  },
  {
   "cell_type": "code",
   "execution_count": 5,
   "metadata": {},
   "outputs": [],
   "source": [
    "import os\n",
    "import tarfile\n",
    "import urllib.request\n",
    "import pickle\n",
    "import numpy as np\n",
    "from PIL import Image, ImageDraw\n",
    "from IPython.display import display\n",
    "from ipywidgets import widgets\n",
    "import tqdm\n",
    "from ipywidgets import Layout\n",
    "\n",
    "url = \"https://www.cs.toronto.edu/~kriz/cifar-10-python.tar.gz\"\n",
    "download_dir = \"cifar10_dataset\"\n",
    "processed_images_box_dir = \"processed_images_boxes\"\n",
    "processed_images_box_dir_in_batches = \"processed_images_boxes_in_batches\"\n",
    "processed_batches_noise_dir = \"processed_images_gaussian_noise\"\n",
    "processed_batches_noise_dir_in_batches = \"processed_images_gaussian_noise_in_batches\"\n",
    "\n",
    "grid_size = 3\n",
    "box_sizes = [10, 11, 11]\n",
    "\n",
    "def download_and_extract():\n",
    "    file_path = os.path.join(download_dir, \"cifar-10-python.tar.gz\")\n",
    "    os.makedirs(download_dir, exist_ok=True)\n",
    "    if not os.path.isfile(file_path):\n",
    "        print(\"Downloading CIFAR-10 dataset...\")\n",
    "        urllib.request.urlretrieve(url, file_path)\n",
    "    with tarfile.open(file_path) as tar:\n",
    "        tar.extractall(path=download_dir)\n",
    "        print(\"Download and extraction completed.\")\n",
    "\n",
    "def load_cifar10_data():\n",
    "    files = [\n",
    "        'cifar-10-batches-py/data_batch_1', \n",
    "        'cifar-10-batches-py/data_batch_2', \n",
    "        'cifar-10-batches-py/data_batch_3', \n",
    "        'cifar-10-batches-py/data_batch_4',\n",
    "        'cifar-10-batches-py/data_batch_5',\n",
    "        # 'cifar-10-batches-py/test_batch'\n",
    "    ]\n",
    "    data = []\n",
    "    labels = []\n",
    "    for file in files:\n",
    "        with open(os.path.join(download_dir, file), 'rb') as f:\n",
    "            cifar10_data_dict = pickle.load(f, encoding='bytes')\n",
    "            data.append(cifar10_data_dict[b'data'])\n",
    "            labels.append(cifar10_data_dict[b'labels'])\n",
    "    data = np.concatenate(data)\n",
    "    labels = np.concatenate(labels)\n",
    "    data = data.reshape(-1, 3, 32, 32).transpose(0, 2, 3, 1)\n",
    "    print(\"CIFAR-10 data loaded.\")\n",
    "    return data, labels\n",
    "\n",
    "def process_images_with_box(train_images):\n",
    "    processed_images = []\n",
    "    for i in tqdm.tqdm(range(train_images.shape[0])):\n",
    "        for j in range(grid_size):\n",
    "            for k in range(grid_size):\n",
    "                image_copy = train_images[i].copy()\n",
    "                image = Image.fromarray(image_copy)\n",
    "                draw = ImageDraw.Draw(image)\n",
    "                top_left = (sum(box_sizes[:j]), sum(box_sizes[:k]))\n",
    "                bottom_right = (top_left[0] + box_sizes[j], top_left[1] + box_sizes[k])\n",
    "                draw.rectangle([top_left, bottom_right], fill=\"black\")\n",
    "                processed_images.append(np.array(image))\n",
    "    print(\"Images processed in memory.\")\n",
    "    return processed_images\n",
    "\n",
    "def save_box_images_to_disk(processed_images):\n",
    "    os.makedirs(processed_images_box_dir, exist_ok=True)\n",
    "    count = 0\n",
    "    for i in range(len(processed_images) // (grid_size * grid_size)):\n",
    "        for j in range(grid_size):\n",
    "            for k in range(grid_size):\n",
    "                image_array = processed_images[count]\n",
    "                image = Image.fromarray(image_array)\n",
    "                image.save(os.path.join(processed_images_box_dir, f\"image_{i}_{j}_{k}.png\"))\n",
    "                count += 1\n",
    "    print(\"Images saved to disk.\")\n",
    "\n",
    "def save_box_images_to_disk_in_batches(processed_images, train_labels):\n",
    "    os.makedirs(processed_images_box_dir_in_batches, exist_ok=True)\n",
    "    processed_images = np.array(processed_images)\n",
    "    num_batches = 5\n",
    "    batch_size = processed_images.shape[0] // num_batches\n",
    "    processed_batches = np.array_split(processed_images, num_batches)\n",
    "    label_batches = np.array_split(train_labels, num_batches)\n",
    "    for i, (data_batch, label_batch) in enumerate(zip(processed_batches, label_batches)):\n",
    "        output_dict = {\n",
    "            'batch_label': f'processed_batch_{i+1}',\n",
    "            'data': data_batch,\n",
    "            'labels': label_batch\n",
    "        }\n",
    "        with open(os.path.join(processed_images_box_dir_in_batches, f'processed_batch_{i+1}.pickle'), 'wb') as f:\n",
    "            pickle.dump(output_dict, f)\n",
    "    print(\"Processed images saved.\")\n",
    "    \n",
    "def generate_gaussian_noise(shape, seed=None):\n",
    "    if seed is not None:\n",
    "        np.random.seed(seed)\n",
    "    return np.random.normal(0, 1, shape)\n",
    "\n",
    "def process_images_with_gaussian_noise(train_images):\n",
    "    processed_images = []\n",
    "    grid_size = 3\n",
    "    box_sizes = [10, 11, 11]\n",
    "    for i in tqdm.tqdm(range(train_images.shape[0])):\n",
    "        for j in range(grid_size):\n",
    "            for k in range(grid_size):\n",
    "                image_copy = train_images[i].copy().astype(np.int32)\n",
    "                gaussian_noise = generate_gaussian_noise((box_sizes[j], box_sizes[k], 3), 42)\n",
    "                gaussian_noise = (gaussian_noise * 30).astype(np.int32)\n",
    "                image_copy[sum(box_sizes[:j]):sum(box_sizes[:j])+box_sizes[j], sum(box_sizes[:k]):sum(box_sizes[:k])+box_sizes[k]] += gaussian_noise\n",
    "                image_copy = np.clip(image_copy, 0, 255)\n",
    "                processed_images.append(image_copy.astype('uint8'))\n",
    "    print(\"Images processed with Gaussian noise in memory.\")\n",
    "    return processed_images\n",
    "\n",
    "def save_gaussian_noise_images_to_disk(processed_images):\n",
    "    os.makedirs(processed_batches_noise_dir, exist_ok=True)\n",
    "    count = 0\n",
    "    for i in range(len(processed_images) // (grid_size * grid_size)):\n",
    "        for j in range(grid_size):\n",
    "            for k in range(grid_size):\n",
    "                image_array = processed_images[count]\n",
    "                image = Image.fromarray(image_array)\n",
    "                image.save(os.path.join(processed_batches_noise_dir, f\"image_{i}_{j}_{k}.png\"))\n",
    "                count += 1\n",
    "    print(\"Gaussian noise images saved to disk.\")\n",
    "\n",
    "def save_gaussian_noise_images_to_batches(processed_images, train_labels):\n",
    "    os.makedirs(processed_batches_noise_dir_in_batches, exist_ok=True)\n",
    "    processed_images = np.array(processed_images)\n",
    "    num_batches = 5\n",
    "    processed_batches = np.array_split(processed_images, num_batches)\n",
    "    label_batches = np.array_split(train_labels, num_batches)\n",
    "    for i, (data_batch, label_batch) in enumerate(zip(processed_batches, label_batches)):\n",
    "        output_dict = {\n",
    "            'batch_label': f'processed_batch_{i+1}',\n",
    "            'data': data_batch,\n",
    "            'labels': label_batch\n",
    "        }\n",
    "        with open(os.path.join(processed_batches_noise_dir_in_batches, f'processed_batch_{i+1}.pickle'), 'wb') as f:\n",
    "            pickle.dump(output_dict, f)\n",
    "    print(\"Processed images with Gaussian noise saved in batches.\")\n",
    "\n"
   ]
  },
  {
   "cell_type": "code",
   "execution_count": 8,
   "metadata": {},
   "outputs": [
    {
     "data": {
      "application/vnd.jupyter.widget-view+json": {
       "model_id": "a3c491c695e64349aeb30c0884585eae",
       "version_major": 2,
       "version_minor": 0
      },
      "text/plain": [
       "Button(description='Download and extract CIFAR-10 to disk', layout=Layout(width='300px'), style=ButtonStyle())"
      ]
     },
     "metadata": {},
     "output_type": "display_data"
    },
    {
     "data": {
      "application/vnd.jupyter.widget-view+json": {
       "model_id": "7441d2539c334f57ae0252cf7c0949d5",
       "version_major": 2,
       "version_minor": 0
      },
      "text/plain": [
       "Button(description='Load CIFAR-10 data to memory', layout=Layout(width='300px'), style=ButtonStyle())"
      ]
     },
     "metadata": {},
     "output_type": "display_data"
    },
    {
     "data": {
      "application/vnd.jupyter.widget-view+json": {
       "model_id": "1f5918bf792348659feaf414b5285dd5",
       "version_major": 2,
       "version_minor": 0
      },
      "text/plain": [
       "Button(description='Process box images in memory', layout=Layout(width='300px'), style=ButtonStyle())"
      ]
     },
     "metadata": {},
     "output_type": "display_data"
    },
    {
     "data": {
      "application/vnd.jupyter.widget-view+json": {
       "model_id": "ed84178594b94744bd0ba91e2f4d9b63",
       "version_major": 2,
       "version_minor": 0
      },
      "text/plain": [
       "Button(description='Save box images to disk', layout=Layout(width='300px'), style=ButtonStyle())"
      ]
     },
     "metadata": {},
     "output_type": "display_data"
    },
    {
     "data": {
      "application/vnd.jupyter.widget-view+json": {
       "model_id": "940b6b8feac24de5b87c24abe1805647",
       "version_major": 2,
       "version_minor": 0
      },
      "text/plain": [
       "Button(description='Save box images to disk in batches', layout=Layout(width='300px'), style=ButtonStyle())"
      ]
     },
     "metadata": {},
     "output_type": "display_data"
    },
    {
     "data": {
      "application/vnd.jupyter.widget-view+json": {
       "model_id": "03f66432cf03421d9c96225a75472a3a",
       "version_major": 2,
       "version_minor": 0
      },
      "text/plain": [
       "Button(description='Process images with Gaussian noise in memory', layout=Layout(width='300px'), style=ButtonS…"
      ]
     },
     "metadata": {},
     "output_type": "display_data"
    },
    {
     "data": {
      "application/vnd.jupyter.widget-view+json": {
       "model_id": "18c203e5aabf4b079a0cce043fe91844",
       "version_major": 2,
       "version_minor": 0
      },
      "text/plain": [
       "Button(description='Save Gaussian noise images to disk', layout=Layout(width='300px'), style=ButtonStyle())"
      ]
     },
     "metadata": {},
     "output_type": "display_data"
    },
    {
     "data": {
      "application/vnd.jupyter.widget-view+json": {
       "model_id": "05edfb864929418586fe43a4901111e0",
       "version_major": 2,
       "version_minor": 0
      },
      "text/plain": [
       "Button(description='Save Gaussian noise images to disk in batches', layout=Layout(width='300px'), style=Button…"
      ]
     },
     "metadata": {},
     "output_type": "display_data"
    },
    {
     "name": "stdout",
     "output_type": "stream",
     "text": [
      "CIFAR-10 data loaded.\n"
     ]
    },
    {
     "name": "stderr",
     "output_type": "stream",
     "text": [
      "100%|██████████| 60000/60000 [00:43<00:00, 1387.00it/s]"
     ]
    },
    {
     "name": "stdout",
     "output_type": "stream",
     "text": [
      "Images processed in memory.\n"
     ]
    },
    {
     "name": "stderr",
     "output_type": "stream",
     "text": [
      "\n"
     ]
    },
    {
     "name": "stdout",
     "output_type": "stream",
     "text": [
      "Processed images saved.\n"
     ]
    }
   ],
   "source": [
    "button_layout = Layout(width='300px')\n",
    "button1 = widgets.Button(description=\"Download and extract CIFAR-10 to disk\", layout=button_layout)\n",
    "button1.on_click(lambda x: download_and_extract())\n",
    "display(button1)\n",
    "\n",
    "# load cifar-10 data to memory\n",
    "\n",
    "data = None\n",
    "labels = None\n",
    "\n",
    "def load_data_wrapper(x):\n",
    "    global data, labels\n",
    "    data, labels = load_cifar10_data()\n",
    "\n",
    "button2 = widgets.Button(description=\"Load CIFAR-10 data to memory\", layout=button_layout)\n",
    "button2.on_click(load_data_wrapper)\n",
    "display(button2)\n",
    "\n",
    "# process images by adding boxes\n",
    "\n",
    "processed_images = None\n",
    "\n",
    "def process_images_wrapper(x):\n",
    "    global processed_images\n",
    "    processed_images = process_images_with_box(data)\n",
    "\n",
    "button3 = widgets.Button(description=\"Process box images in memory\", layout=button_layout)\n",
    "button3.on_click(process_images_wrapper)\n",
    "display(button3)\n",
    "\n",
    "def save_images_wrapper(x):\n",
    "    save_box_images_to_disk(processed_images)\n",
    "\n",
    "button4 = widgets.Button(description=\"Save box images to disk\", layout=button_layout)\n",
    "button4.on_click(save_images_wrapper)\n",
    "display(button4)\n",
    "\n",
    "def save_processed_images_wrapper(x):\n",
    "    save_box_images_to_disk_in_batches(processed_images, labels)\n",
    "\n",
    "button5 = widgets.Button(description=\"Save box images to disk in batches\", layout=button_layout)\n",
    "button5.on_click(save_processed_images_wrapper)\n",
    "display(button5)\n",
    "\n",
    "# process images by adding gaussian noise\n",
    "\n",
    "gaussian_noise_images = None\n",
    "\n",
    "def process_gaussian_noise_images_wrapper(x):\n",
    "    global gaussian_noise_images\n",
    "    gaussian_noise_images = process_images_with_gaussian_noise(data)\n",
    "\n",
    "button6 = widgets.Button(description=\"Process images with Gaussian noise in memory\", layout=button_layout)\n",
    "button6.on_click(process_gaussian_noise_images_wrapper)\n",
    "display(button6)\n",
    "\n",
    "def save_gaussian_noise_images_to_disk_wrapper(x):\n",
    "    save_gaussian_noise_images_to_disk(gaussian_noise_images)\n",
    "\n",
    "button7 = widgets.Button(description=\"Save Gaussian noise images to disk\", layout=button_layout)\n",
    "button7.on_click(save_gaussian_noise_images_to_disk_wrapper)\n",
    "display(button7)\n",
    "\n",
    "def save_gaussian_noise_images_to_batches_wrapper(x):\n",
    "    save_gaussian_noise_images_to_batches(gaussian_noise_images, labels)\n",
    "\n",
    "button8 = widgets.Button(description=\"Save Gaussian noise images to disk in batches\", layout=button_layout)\n",
    "button8.on_click(save_gaussian_noise_images_to_batches_wrapper)\n",
    "display(button8)"
   ]
  }
 ],
 "metadata": {
  "kernelspec": {
   "display_name": "Python 3",
   "language": "python",
   "name": "python3"
  },
  "language_info": {
   "codemirror_mode": {
    "name": "ipython",
    "version": 3
   },
   "file_extension": ".py",
   "mimetype": "text/x-python",
   "name": "python",
   "nbconvert_exporter": "python",
   "pygments_lexer": "ipython3",
   "version": "3.9.13"
  },
  "orig_nbformat": 4
 },
 "nbformat": 4,
 "nbformat_minor": 2
}
